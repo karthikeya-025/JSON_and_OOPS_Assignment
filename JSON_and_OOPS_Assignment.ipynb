{
 "cells": [
  {
   "cell_type": "markdown",
   "id": "f27799f3",
   "metadata": {},
   "source": [
    "# Assignment - 1"
   ]
  },
  {
   "cell_type": "code",
   "execution_count": 22,
   "id": "f2204b47",
   "metadata": {},
   "outputs": [],
   "source": [
    "class Employees:\n",
    "    def __init__(self,name,dob,height,city,state):\n",
    "        self.name = name\n",
    "        self.dob = dob\n",
    "        self.height = height\n",
    "        self.city = city\n",
    "        self.state = state"
   ]
  },
  {
   "cell_type": "code",
   "execution_count": 24,
   "id": "5076a66f",
   "metadata": {},
   "outputs": [
    {
     "name": "stdout",
     "output_type": "stream",
     "text": [
      "[<__main__.Employees object at 0x000002A8111EA560>, <__main__.Employees object at 0x000002A8111D0A60>, <__main__.Employees object at 0x000002A8111D0280>, <__main__.Employees object at 0x000002A8111D0250>]\n"
     ]
    }
   ],
   "source": [
    "import json \n",
    "\n",
    "with open('emloyees.json','r') as json_file:\n",
    "    js=json.load(json_file)\n",
    "employees = []\n",
    "count = 1\n",
    "while count <5:\n",
    "    cur_var = js[\"employers\"][str(count)]\n",
    "    employee = Employees(cur_var['name'],cur_var['DOB'],cur_var['Height'],cur_var['City'],cur_var['State'])\n",
    "    employees.append(employee)\n",
    "    count+=1\n",
    "print(employees)"
   ]
  },
  {
   "cell_type": "code",
   "execution_count": 26,
   "id": "f72bb78f",
   "metadata": {},
   "outputs": [],
   "source": [
    "states = {\n",
    "    'Uttar Pradesh':'Lucknow',\n",
    "    'Bihar':'Patna',\n",
    "    'Telangana':'Hyderabad',\n",
    "    'Karnataka':'Banglore',\n",
    "    'Maharashtra':'Mumbai',\n",
    "    'Tamil Nadu':'Chennai',\n",
    "    'Madhya Pradesh':\"Bhopal\"\n",
    "}"
   ]
  },
  {
   "cell_type": "code",
   "execution_count": 28,
   "id": "2c0e4215",
   "metadata": {},
   "outputs": [],
   "source": [
    "with open(\"states.json\",'w') as json_state_file:\n",
    "    json.dump(states,json_state_file)"
   ]
  },
  {
   "cell_type": "markdown",
   "id": "90354295",
   "metadata": {},
   "source": [
    "# Assignment-2"
   ]
  },
  {
   "cell_type": "code",
   "execution_count": 39,
   "id": "bc93d745",
   "metadata": {},
   "outputs": [],
   "source": [
    "class Dog:\n",
    "    def __init__(self,name,age,coat_color):\n",
    "        self.name = name\n",
    "        self.age = age\n",
    "        self.coat_color = coat_color\n",
    "    def description(self):\n",
    "        print(f\"The name of the Dog is {self.name} and its age is {self.age}\")\n",
    "    def get_info(self):\n",
    "        print(f\"The coat color of the dog is {self.coat_color} \")\n",
    "class Bulldog(Dog):\n",
    "    def __init__(self,name,age,coat_color,gender,color):\n",
    "        self.gender = gender\n",
    "        self.color = color\n",
    "        super().__init__(name,age,coat_color)\n",
    "    def gender_info(self):\n",
    "        print(f\"Its gender is {self.gender}\")\n",
    "    def color_info(self):\n",
    "        print(f'The color of the bulldog is {self.color}')\n",
    "class JackRussellTerrier(Dog):\n",
    "    def __init__(self,name,age,coat_color,gender,color):\n",
    "        self.gender = gender\n",
    "        self.color = color\n",
    "        super().__init__(name,age,coat_color)\n",
    "    def gender_info(self):\n",
    "        print(f\"Its gender is {self.gender}\")\n",
    "    def color_info(self):\n",
    "        print(f'The color of the Jack Russell Terrier is {self.color}')"
   ]
  },
  {
   "cell_type": "code",
   "execution_count": 40,
   "id": "eeda3c1b",
   "metadata": {},
   "outputs": [],
   "source": [
    "bulldog_1 = Bulldog('tom',5,'black','male','white')\n",
    "jack_dog_1 = JackRussellTerrier(\"grace\",7,'white','female','brown')"
   ]
  },
  {
   "cell_type": "code",
   "execution_count": 41,
   "id": "094f1c61",
   "metadata": {},
   "outputs": [
    {
     "name": "stdout",
     "output_type": "stream",
     "text": [
      "The name of the Dog is tom and its age is 5\n",
      "The coat color of the dog is black \n",
      "Its gender is male\n",
      "The color of the bulldog is white\n"
     ]
    }
   ],
   "source": [
    "bulldog_1.description()\n",
    "bulldog_1.get_info()\n",
    "bulldog_1.gender_info()\n",
    "bulldog_1.color_info()"
   ]
  },
  {
   "cell_type": "code",
   "execution_count": 42,
   "id": "6a48521a",
   "metadata": {},
   "outputs": [
    {
     "name": "stdout",
     "output_type": "stream",
     "text": [
      "The name of the Dog is grace and its age is 7\n",
      "The coat color of the dog is white \n",
      "Its gender is female\n",
      "The color of the Jack Russell Terrier is brown\n"
     ]
    }
   ],
   "source": [
    "jack_dog_1.description()\n",
    "jack_dog_1.get_info()\n",
    "jack_dog_1.gender_info()\n",
    "jack_dog_1.color_info()"
   ]
  },
  {
   "cell_type": "code",
   "execution_count": null,
   "id": "2e68520b",
   "metadata": {},
   "outputs": [],
   "source": []
  }
 ],
 "metadata": {
  "kernelspec": {
   "display_name": "Python 3 (ipykernel)",
   "language": "python",
   "name": "python3"
  },
  "language_info": {
   "codemirror_mode": {
    "name": "ipython",
    "version": 3
   },
   "file_extension": ".py",
   "mimetype": "text/x-python",
   "name": "python",
   "nbconvert_exporter": "python",
   "pygments_lexer": "ipython3",
   "version": "3.10.9"
  }
 },
 "nbformat": 4,
 "nbformat_minor": 5
}
